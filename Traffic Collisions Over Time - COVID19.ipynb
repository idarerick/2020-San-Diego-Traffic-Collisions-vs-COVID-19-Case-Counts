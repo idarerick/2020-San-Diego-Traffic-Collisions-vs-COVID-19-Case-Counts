{
 "cells": [
  {
   "cell_type": "code",
   "execution_count": 14,
   "metadata": {},
   "outputs": [],
   "source": [
    "import pandas as pd\n",
    "import numpy as np\n",
    "import datetime as dt\n",
    "import matplotlib.pyplot as plt\n",
    "import matplotlib.dates as mdates\n",
    "import plotly.express as px\n",
    "from matplotlib.dates import DateFormatter\n",
    "import seaborn as sns\n",
    "import statsmodels.api as sm\n",
    "\n",
    "%matplotlib notebook"
   ]
  },
  {
   "cell_type": "code",
   "execution_count": 15,
   "metadata": {
    "scrolled": true
   },
   "outputs": [
    {
     "data": {
      "text/plain": [
       "Date\n",
       "2020-03-06      2\n",
       "2020-03-07      2\n",
       "2020-03-08      2\n",
       "2020-03-09      2\n",
       "2020-03-10      2\n",
       "2020-03-11      2\n",
       "2020-03-12      2\n",
       "2020-03-13      2\n",
       "2020-03-14      8\n",
       "2020-03-15     39\n",
       "2020-03-16     55\n",
       "2020-03-17     60\n",
       "2020-03-18     80\n",
       "2020-03-19    105\n",
       "2020-03-20    131\n",
       "2020-03-21    159\n",
       "2020-03-22    205\n",
       "2020-03-23    230\n",
       "2020-03-24    242\n",
       "2020-03-25    297\n",
       "2020-03-26    341\n",
       "2020-03-27    417\n",
       "2020-03-28    519\n",
       "2020-03-29    603\n",
       "2020-03-30    734\n",
       "2020-03-31    849\n",
       "2020-04-01    966\n",
       "Name: Total, dtype: int64"
      ]
     },
     "execution_count": 15,
     "metadata": {},
     "output_type": "execute_result"
    }
   ],
   "source": [
    "casecounts = pd.read_csv(\"data/covid-sandiego-over-time.csv\")\n",
    "\n",
    "casecounts['Date'] = pd.DatetimeIndex(casecounts['Date']).date\n",
    "casecounts = casecounts.set_index(['Date'])\n",
    "casecounts = casecounts['Total']\n",
    "casecounts"
   ]
  },
  {
   "cell_type": "code",
   "execution_count": 16,
   "metadata": {
    "scrolled": true
   },
   "outputs": [
    {
     "data": {
      "text/html": [
       "<div>\n",
       "<style scoped>\n",
       "    .dataframe tbody tr th:only-of-type {\n",
       "        vertical-align: middle;\n",
       "    }\n",
       "\n",
       "    .dataframe tbody tr th {\n",
       "        vertical-align: top;\n",
       "    }\n",
       "\n",
       "    .dataframe thead th {\n",
       "        text-align: right;\n",
       "    }\n",
       "</style>\n",
       "<table border=\"1\" class=\"dataframe\">\n",
       "  <thead>\n",
       "    <tr style=\"text-align: right;\">\n",
       "      <th></th>\n",
       "      <th>report_id</th>\n",
       "      <th>date_time</th>\n",
       "      <th>police_beat</th>\n",
       "      <th>address_number_primary</th>\n",
       "      <th>address_pd_primary</th>\n",
       "      <th>address_road_primary</th>\n",
       "      <th>address_sfx_primary</th>\n",
       "      <th>address_pd_intersecting</th>\n",
       "      <th>address_name_intersecting</th>\n",
       "      <th>address_sfx_intersecting</th>\n",
       "      <th>violation_section</th>\n",
       "      <th>violation_type</th>\n",
       "      <th>charge_desc</th>\n",
       "      <th>injured</th>\n",
       "      <th>killed</th>\n",
       "      <th>hit_run_lvl</th>\n",
       "      <th>Date</th>\n",
       "    </tr>\n",
       "  </thead>\n",
       "  <tbody>\n",
       "    <tr>\n",
       "      <th>0</th>\n",
       "      <td>180282</td>\n",
       "      <td>2018-01-01 00:30:00</td>\n",
       "      <td>124</td>\n",
       "      <td>6500</td>\n",
       "      <td></td>\n",
       "      <td>EL CAMINO DE TEATRO</td>\n",
       "      <td></td>\n",
       "      <td></td>\n",
       "      <td></td>\n",
       "      <td></td>\n",
       "      <td>22350</td>\n",
       "      <td>VC</td>\n",
       "      <td>VIOLATION OF BASIC SPEED LAW SPEED UNSAFE FOR ...</td>\n",
       "      <td>0</td>\n",
       "      <td>0</td>\n",
       "      <td>NaN</td>\n",
       "      <td>2018-01-01</td>\n",
       "    </tr>\n",
       "    <tr>\n",
       "      <th>1</th>\n",
       "      <td>180310</td>\n",
       "      <td>2018-01-01 01:00:00</td>\n",
       "      <td>616</td>\n",
       "      <td>500</td>\n",
       "      <td></td>\n",
       "      <td>ROSECRANS</td>\n",
       "      <td>STREET</td>\n",
       "      <td></td>\n",
       "      <td></td>\n",
       "      <td></td>\n",
       "      <td>22350</td>\n",
       "      <td>VC</td>\n",
       "      <td>VIOLATION OF BASIC SPEED LAW SPEED UNSAFE FOR ...</td>\n",
       "      <td>0</td>\n",
       "      <td>0</td>\n",
       "      <td>MISDEMEANOR</td>\n",
       "      <td>2018-01-01</td>\n",
       "    </tr>\n",
       "    <tr>\n",
       "      <th>2</th>\n",
       "      <td>180573</td>\n",
       "      <td>2018-01-01 01:26:00</td>\n",
       "      <td>721</td>\n",
       "      <td>0</td>\n",
       "      <td></td>\n",
       "      <td>PALM</td>\n",
       "      <td>AVENUE</td>\n",
       "      <td></td>\n",
       "      <td>18TH</td>\n",
       "      <td>STREET</td>\n",
       "      <td>21954A</td>\n",
       "      <td>VC</td>\n",
       "      <td>PEDESTRIANS OUTSIDE CROSSWALKS</td>\n",
       "      <td>0</td>\n",
       "      <td>1</td>\n",
       "      <td>NaN</td>\n",
       "      <td>2018-01-01</td>\n",
       "    </tr>\n",
       "    <tr>\n",
       "      <th>3</th>\n",
       "      <td>180317</td>\n",
       "      <td>2018-01-01 02:05:00</td>\n",
       "      <td>512</td>\n",
       "      <td>3100</td>\n",
       "      <td></td>\n",
       "      <td>LOGAN</td>\n",
       "      <td>AVENUE</td>\n",
       "      <td></td>\n",
       "      <td></td>\n",
       "      <td></td>\n",
       "      <td>22450(A)</td>\n",
       "      <td>VC</td>\n",
       "      <td>STOP REQUIREMENTS STATE STOP LINE</td>\n",
       "      <td>0</td>\n",
       "      <td>0</td>\n",
       "      <td>MISDEMEANOR</td>\n",
       "      <td>2018-01-01</td>\n",
       "    </tr>\n",
       "    <tr>\n",
       "      <th>4</th>\n",
       "      <td>180319</td>\n",
       "      <td>2018-01-01 02:26:00</td>\n",
       "      <td>439</td>\n",
       "      <td>6200</td>\n",
       "      <td></td>\n",
       "      <td>DIVISION</td>\n",
       "      <td>STREET</td>\n",
       "      <td></td>\n",
       "      <td></td>\n",
       "      <td></td>\n",
       "      <td>22107</td>\n",
       "      <td>VC</td>\n",
       "      <td>TURNING MOVEMENTS AND REQUIRED SIGNALS</td>\n",
       "      <td>0</td>\n",
       "      <td>0</td>\n",
       "      <td>MISDEMEANOR</td>\n",
       "      <td>2018-01-01</td>\n",
       "    </tr>\n",
       "  </tbody>\n",
       "</table>\n",
       "</div>"
      ],
      "text/plain": [
       "  report_id            date_time  police_beat  address_number_primary  \\\n",
       "0    180282  2018-01-01 00:30:00          124                    6500   \n",
       "1    180310  2018-01-01 01:00:00          616                     500   \n",
       "2    180573  2018-01-01 01:26:00          721                       0   \n",
       "3    180317  2018-01-01 02:05:00          512                    3100   \n",
       "4    180319  2018-01-01 02:26:00          439                    6200   \n",
       "\n",
       "  address_pd_primary address_road_primary address_sfx_primary  \\\n",
       "0                     EL CAMINO DE TEATRO                       \n",
       "1                               ROSECRANS              STREET   \n",
       "2                                    PALM              AVENUE   \n",
       "3                                   LOGAN              AVENUE   \n",
       "4                                DIVISION              STREET   \n",
       "\n",
       "  address_pd_intersecting address_name_intersecting address_sfx_intersecting  \\\n",
       "0                                                                              \n",
       "1                                                                              \n",
       "2                                              18TH                   STREET   \n",
       "3                                                                              \n",
       "4                                                                              \n",
       "\n",
       "  violation_section violation_type  \\\n",
       "0             22350             VC   \n",
       "1             22350             VC   \n",
       "2            21954A             VC   \n",
       "3          22450(A)             VC   \n",
       "4             22107             VC   \n",
       "\n",
       "                                         charge_desc  injured  killed  \\\n",
       "0  VIOLATION OF BASIC SPEED LAW SPEED UNSAFE FOR ...        0       0   \n",
       "1  VIOLATION OF BASIC SPEED LAW SPEED UNSAFE FOR ...        0       0   \n",
       "2                     PEDESTRIANS OUTSIDE CROSSWALKS        0       1   \n",
       "3                  STOP REQUIREMENTS STATE STOP LINE        0       0   \n",
       "4             TURNING MOVEMENTS AND REQUIRED SIGNALS        0       0   \n",
       "\n",
       "   hit_run_lvl        Date  \n",
       "0          NaN  2018-01-01  \n",
       "1  MISDEMEANOR  2018-01-01  \n",
       "2          NaN  2018-01-01  \n",
       "3  MISDEMEANOR  2018-01-01  \n",
       "4  MISDEMEANOR  2018-01-01  "
      ]
     },
     "execution_count": 16,
     "metadata": {},
     "output_type": "execute_result"
    }
   ],
   "source": [
    "trafcollisions = pd.read_csv(\"data/pd_collisions_datasd_v1.csv\")\n",
    "\n",
    "trafcollisions['Date'] = pd.DatetimeIndex(trafcollisions['date_time']).date\n",
    "\n",
    "trafcollisions.sort_values(['date_time']).head()"
   ]
  },
  {
   "cell_type": "code",
   "execution_count": 17,
   "metadata": {},
   "outputs": [
    {
     "data": {
      "text/html": [
       "<div>\n",
       "<style scoped>\n",
       "    .dataframe tbody tr th:only-of-type {\n",
       "        vertical-align: middle;\n",
       "    }\n",
       "\n",
       "    .dataframe tbody tr th {\n",
       "        vertical-align: top;\n",
       "    }\n",
       "\n",
       "    .dataframe thead th {\n",
       "        text-align: right;\n",
       "    }\n",
       "</style>\n",
       "<table border=\"1\" class=\"dataframe\">\n",
       "  <thead>\n",
       "    <tr style=\"text-align: right;\">\n",
       "      <th></th>\n",
       "      <th>Date</th>\n",
       "      <th>count_collisions</th>\n",
       "      <th>Total</th>\n",
       "    </tr>\n",
       "  </thead>\n",
       "  <tbody>\n",
       "    <tr>\n",
       "      <th>727</th>\n",
       "      <td>2019-12-29</td>\n",
       "      <td>22</td>\n",
       "      <td>NaN</td>\n",
       "    </tr>\n",
       "    <tr>\n",
       "      <th>728</th>\n",
       "      <td>2019-12-30</td>\n",
       "      <td>11</td>\n",
       "      <td>NaN</td>\n",
       "    </tr>\n",
       "    <tr>\n",
       "      <th>729</th>\n",
       "      <td>2019-12-31</td>\n",
       "      <td>19</td>\n",
       "      <td>NaN</td>\n",
       "    </tr>\n",
       "    <tr>\n",
       "      <th>730</th>\n",
       "      <td>2020-01-01</td>\n",
       "      <td>29</td>\n",
       "      <td>NaN</td>\n",
       "    </tr>\n",
       "    <tr>\n",
       "      <th>731</th>\n",
       "      <td>2020-01-02</td>\n",
       "      <td>19</td>\n",
       "      <td>NaN</td>\n",
       "    </tr>\n",
       "  </tbody>\n",
       "</table>\n",
       "</div>"
      ],
      "text/plain": [
       "           Date  count_collisions  Total\n",
       "727  2019-12-29                22    NaN\n",
       "728  2019-12-30                11    NaN\n",
       "729  2019-12-31                19    NaN\n",
       "730  2020-01-01                29    NaN\n",
       "731  2020-01-02                19    NaN"
      ]
     },
     "execution_count": 17,
     "metadata": {},
     "output_type": "execute_result"
    }
   ],
   "source": [
    "count_trafcollisions = trafcollisions.groupby(['Date'])['report_id'].count().reset_index(name='count_collisions')\n",
    "count_trafcollisions = count_trafcollisions.set_index(['Date']).join(casecounts).reset_index()\n",
    "count_trafcollisions = count_trafcollisions.loc[727:]\n",
    "#count_trafcollisions = count_trafcollisions.set_index(['Date'])\n",
    "count_trafcollisions.head()"
   ]
  },
  {
   "cell_type": "code",
   "execution_count": 18,
   "metadata": {},
   "outputs": [],
   "source": [
    "plt.style.use('seaborn-colorblind')"
   ]
  },
  {
   "cell_type": "code",
   "execution_count": 19,
   "metadata": {},
   "outputs": [
    {
     "data": {
      "application/javascript": [
       "/* Put everything inside the global mpl namespace */\n",
       "window.mpl = {};\n",
       "\n",
       "\n",
       "mpl.get_websocket_type = function() {\n",
       "    if (typeof(WebSocket) !== 'undefined') {\n",
       "        return WebSocket;\n",
       "    } else if (typeof(MozWebSocket) !== 'undefined') {\n",
       "        return MozWebSocket;\n",
       "    } else {\n",
       "        alert('Your browser does not have WebSocket support.' +\n",
       "              'Please try Chrome, Safari or Firefox ≥ 6. ' +\n",
       "              'Firefox 4 and 5 are also supported but you ' +\n",
       "              'have to enable WebSockets in about:config.');\n",
       "    };\n",
       "}\n",
       "\n",
       "mpl.figure = function(figure_id, websocket, ondownload, parent_element) {\n",
       "    this.id = figure_id;\n",
       "\n",
       "    this.ws = websocket;\n",
       "\n",
       "    this.supports_binary = (this.ws.binaryType != undefined);\n",
       "\n",
       "    if (!this.supports_binary) {\n",
       "        var warnings = document.getElementById(\"mpl-warnings\");\n",
       "        if (warnings) {\n",
       "            warnings.style.display = 'block';\n",
       "            warnings.textContent = (\n",
       "                \"This browser does not support binary websocket messages. \" +\n",
       "                    \"Performance may be slow.\");\n",
       "        }\n",
       "    }\n",
       "\n",
       "    this.imageObj = new Image();\n",
       "\n",
       "    this.context = undefined;\n",
       "    this.message = undefined;\n",
       "    this.canvas = undefined;\n",
       "    this.rubberband_canvas = undefined;\n",
       "    this.rubberband_context = undefined;\n",
       "    this.format_dropdown = undefined;\n",
       "\n",
       "    this.image_mode = 'full';\n",
       "\n",
       "    this.root = $('<div/>');\n",
       "    this._root_extra_style(this.root)\n",
       "    this.root.attr('style', 'display: inline-block');\n",
       "\n",
       "    $(parent_element).append(this.root);\n",
       "\n",
       "    this._init_header(this);\n",
       "    this._init_canvas(this);\n",
       "    this._init_toolbar(this);\n",
       "\n",
       "    var fig = this;\n",
       "\n",
       "    this.waiting = false;\n",
       "\n",
       "    this.ws.onopen =  function () {\n",
       "            fig.send_message(\"supports_binary\", {value: fig.supports_binary});\n",
       "            fig.send_message(\"send_image_mode\", {});\n",
       "            if (mpl.ratio != 1) {\n",
       "                fig.send_message(\"set_dpi_ratio\", {'dpi_ratio': mpl.ratio});\n",
       "            }\n",
       "            fig.send_message(\"refresh\", {});\n",
       "        }\n",
       "\n",
       "    this.imageObj.onload = function() {\n",
       "            if (fig.image_mode == 'full') {\n",
       "                // Full images could contain transparency (where diff images\n",
       "                // almost always do), so we need to clear the canvas so that\n",
       "                // there is no ghosting.\n",
       "                fig.context.clearRect(0, 0, fig.canvas.width, fig.canvas.height);\n",
       "            }\n",
       "            fig.context.drawImage(fig.imageObj, 0, 0);\n",
       "        };\n",
       "\n",
       "    this.imageObj.onunload = function() {\n",
       "        fig.ws.close();\n",
       "    }\n",
       "\n",
       "    this.ws.onmessage = this._make_on_message_function(this);\n",
       "\n",
       "    this.ondownload = ondownload;\n",
       "}\n",
       "\n",
       "mpl.figure.prototype._init_header = function() {\n",
       "    var titlebar = $(\n",
       "        '<div class=\"ui-dialog-titlebar ui-widget-header ui-corner-all ' +\n",
       "        'ui-helper-clearfix\"/>');\n",
       "    var titletext = $(\n",
       "        '<div class=\"ui-dialog-title\" style=\"width: 100%; ' +\n",
       "        'text-align: center; padding: 3px;\"/>');\n",
       "    titlebar.append(titletext)\n",
       "    this.root.append(titlebar);\n",
       "    this.header = titletext[0];\n",
       "}\n",
       "\n",
       "\n",
       "\n",
       "mpl.figure.prototype._canvas_extra_style = function(canvas_div) {\n",
       "\n",
       "}\n",
       "\n",
       "\n",
       "mpl.figure.prototype._root_extra_style = function(canvas_div) {\n",
       "\n",
       "}\n",
       "\n",
       "mpl.figure.prototype._init_canvas = function() {\n",
       "    var fig = this;\n",
       "\n",
       "    var canvas_div = $('<div/>');\n",
       "\n",
       "    canvas_div.attr('style', 'position: relative; clear: both; outline: 0');\n",
       "\n",
       "    function canvas_keyboard_event(event) {\n",
       "        return fig.key_event(event, event['data']);\n",
       "    }\n",
       "\n",
       "    canvas_div.keydown('key_press', canvas_keyboard_event);\n",
       "    canvas_div.keyup('key_release', canvas_keyboard_event);\n",
       "    this.canvas_div = canvas_div\n",
       "    this._canvas_extra_style(canvas_div)\n",
       "    this.root.append(canvas_div);\n",
       "\n",
       "    var canvas = $('<canvas/>');\n",
       "    canvas.addClass('mpl-canvas');\n",
       "    canvas.attr('style', \"left: 0; top: 0; z-index: 0; outline: 0\")\n",
       "\n",
       "    this.canvas = canvas[0];\n",
       "    this.context = canvas[0].getContext(\"2d\");\n",
       "\n",
       "    var backingStore = this.context.backingStorePixelRatio ||\n",
       "\tthis.context.webkitBackingStorePixelRatio ||\n",
       "\tthis.context.mozBackingStorePixelRatio ||\n",
       "\tthis.context.msBackingStorePixelRatio ||\n",
       "\tthis.context.oBackingStorePixelRatio ||\n",
       "\tthis.context.backingStorePixelRatio || 1;\n",
       "\n",
       "    mpl.ratio = (window.devicePixelRatio || 1) / backingStore;\n",
       "\n",
       "    var rubberband = $('<canvas/>');\n",
       "    rubberband.attr('style', \"position: absolute; left: 0; top: 0; z-index: 1;\")\n",
       "\n",
       "    var pass_mouse_events = true;\n",
       "\n",
       "    canvas_div.resizable({\n",
       "        start: function(event, ui) {\n",
       "            pass_mouse_events = false;\n",
       "        },\n",
       "        resize: function(event, ui) {\n",
       "            fig.request_resize(ui.size.width, ui.size.height);\n",
       "        },\n",
       "        stop: function(event, ui) {\n",
       "            pass_mouse_events = true;\n",
       "            fig.request_resize(ui.size.width, ui.size.height);\n",
       "        },\n",
       "    });\n",
       "\n",
       "    function mouse_event_fn(event) {\n",
       "        if (pass_mouse_events)\n",
       "            return fig.mouse_event(event, event['data']);\n",
       "    }\n",
       "\n",
       "    rubberband.mousedown('button_press', mouse_event_fn);\n",
       "    rubberband.mouseup('button_release', mouse_event_fn);\n",
       "    // Throttle sequential mouse events to 1 every 20ms.\n",
       "    rubberband.mousemove('motion_notify', mouse_event_fn);\n",
       "\n",
       "    rubberband.mouseenter('figure_enter', mouse_event_fn);\n",
       "    rubberband.mouseleave('figure_leave', mouse_event_fn);\n",
       "\n",
       "    canvas_div.on(\"wheel\", function (event) {\n",
       "        event = event.originalEvent;\n",
       "        event['data'] = 'scroll'\n",
       "        if (event.deltaY < 0) {\n",
       "            event.step = 1;\n",
       "        } else {\n",
       "            event.step = -1;\n",
       "        }\n",
       "        mouse_event_fn(event);\n",
       "    });\n",
       "\n",
       "    canvas_div.append(canvas);\n",
       "    canvas_div.append(rubberband);\n",
       "\n",
       "    this.rubberband = rubberband;\n",
       "    this.rubberband_canvas = rubberband[0];\n",
       "    this.rubberband_context = rubberband[0].getContext(\"2d\");\n",
       "    this.rubberband_context.strokeStyle = \"#000000\";\n",
       "\n",
       "    this._resize_canvas = function(width, height) {\n",
       "        // Keep the size of the canvas, canvas container, and rubber band\n",
       "        // canvas in synch.\n",
       "        canvas_div.css('width', width)\n",
       "        canvas_div.css('height', height)\n",
       "\n",
       "        canvas.attr('width', width * mpl.ratio);\n",
       "        canvas.attr('height', height * mpl.ratio);\n",
       "        canvas.attr('style', 'width: ' + width + 'px; height: ' + height + 'px;');\n",
       "\n",
       "        rubberband.attr('width', width);\n",
       "        rubberband.attr('height', height);\n",
       "    }\n",
       "\n",
       "    // Set the figure to an initial 600x600px, this will subsequently be updated\n",
       "    // upon first draw.\n",
       "    this._resize_canvas(600, 600);\n",
       "\n",
       "    // Disable right mouse context menu.\n",
       "    $(this.rubberband_canvas).bind(\"contextmenu\",function(e){\n",
       "        return false;\n",
       "    });\n",
       "\n",
       "    function set_focus () {\n",
       "        canvas.focus();\n",
       "        canvas_div.focus();\n",
       "    }\n",
       "\n",
       "    window.setTimeout(set_focus, 100);\n",
       "}\n",
       "\n",
       "mpl.figure.prototype._init_toolbar = function() {\n",
       "    var fig = this;\n",
       "\n",
       "    var nav_element = $('<div/>')\n",
       "    nav_element.attr('style', 'width: 100%');\n",
       "    this.root.append(nav_element);\n",
       "\n",
       "    // Define a callback function for later on.\n",
       "    function toolbar_event(event) {\n",
       "        return fig.toolbar_button_onclick(event['data']);\n",
       "    }\n",
       "    function toolbar_mouse_event(event) {\n",
       "        return fig.toolbar_button_onmouseover(event['data']);\n",
       "    }\n",
       "\n",
       "    for(var toolbar_ind in mpl.toolbar_items) {\n",
       "        var name = mpl.toolbar_items[toolbar_ind][0];\n",
       "        var tooltip = mpl.toolbar_items[toolbar_ind][1];\n",
       "        var image = mpl.toolbar_items[toolbar_ind][2];\n",
       "        var method_name = mpl.toolbar_items[toolbar_ind][3];\n",
       "\n",
       "        if (!name) {\n",
       "            // put a spacer in here.\n",
       "            continue;\n",
       "        }\n",
       "        var button = $('<button/>');\n",
       "        button.addClass('ui-button ui-widget ui-state-default ui-corner-all ' +\n",
       "                        'ui-button-icon-only');\n",
       "        button.attr('role', 'button');\n",
       "        button.attr('aria-disabled', 'false');\n",
       "        button.click(method_name, toolbar_event);\n",
       "        button.mouseover(tooltip, toolbar_mouse_event);\n",
       "\n",
       "        var icon_img = $('<span/>');\n",
       "        icon_img.addClass('ui-button-icon-primary ui-icon');\n",
       "        icon_img.addClass(image);\n",
       "        icon_img.addClass('ui-corner-all');\n",
       "\n",
       "        var tooltip_span = $('<span/>');\n",
       "        tooltip_span.addClass('ui-button-text');\n",
       "        tooltip_span.html(tooltip);\n",
       "\n",
       "        button.append(icon_img);\n",
       "        button.append(tooltip_span);\n",
       "\n",
       "        nav_element.append(button);\n",
       "    }\n",
       "\n",
       "    var fmt_picker_span = $('<span/>');\n",
       "\n",
       "    var fmt_picker = $('<select/>');\n",
       "    fmt_picker.addClass('mpl-toolbar-option ui-widget ui-widget-content');\n",
       "    fmt_picker_span.append(fmt_picker);\n",
       "    nav_element.append(fmt_picker_span);\n",
       "    this.format_dropdown = fmt_picker[0];\n",
       "\n",
       "    for (var ind in mpl.extensions) {\n",
       "        var fmt = mpl.extensions[ind];\n",
       "        var option = $(\n",
       "            '<option/>', {selected: fmt === mpl.default_extension}).html(fmt);\n",
       "        fmt_picker.append(option)\n",
       "    }\n",
       "\n",
       "    // Add hover states to the ui-buttons\n",
       "    $( \".ui-button\" ).hover(\n",
       "        function() { $(this).addClass(\"ui-state-hover\");},\n",
       "        function() { $(this).removeClass(\"ui-state-hover\");}\n",
       "    );\n",
       "\n",
       "    var status_bar = $('<span class=\"mpl-message\"/>');\n",
       "    nav_element.append(status_bar);\n",
       "    this.message = status_bar[0];\n",
       "}\n",
       "\n",
       "mpl.figure.prototype.request_resize = function(x_pixels, y_pixels) {\n",
       "    // Request matplotlib to resize the figure. Matplotlib will then trigger a resize in the client,\n",
       "    // which will in turn request a refresh of the image.\n",
       "    this.send_message('resize', {'width': x_pixels, 'height': y_pixels});\n",
       "}\n",
       "\n",
       "mpl.figure.prototype.send_message = function(type, properties) {\n",
       "    properties['type'] = type;\n",
       "    properties['figure_id'] = this.id;\n",
       "    this.ws.send(JSON.stringify(properties));\n",
       "}\n",
       "\n",
       "mpl.figure.prototype.send_draw_message = function() {\n",
       "    if (!this.waiting) {\n",
       "        this.waiting = true;\n",
       "        this.ws.send(JSON.stringify({type: \"draw\", figure_id: this.id}));\n",
       "    }\n",
       "}\n",
       "\n",
       "\n",
       "mpl.figure.prototype.handle_save = function(fig, msg) {\n",
       "    var format_dropdown = fig.format_dropdown;\n",
       "    var format = format_dropdown.options[format_dropdown.selectedIndex].value;\n",
       "    fig.ondownload(fig, format);\n",
       "}\n",
       "\n",
       "\n",
       "mpl.figure.prototype.handle_resize = function(fig, msg) {\n",
       "    var size = msg['size'];\n",
       "    if (size[0] != fig.canvas.width || size[1] != fig.canvas.height) {\n",
       "        fig._resize_canvas(size[0], size[1]);\n",
       "        fig.send_message(\"refresh\", {});\n",
       "    };\n",
       "}\n",
       "\n",
       "mpl.figure.prototype.handle_rubberband = function(fig, msg) {\n",
       "    var x0 = msg['x0'] / mpl.ratio;\n",
       "    var y0 = (fig.canvas.height - msg['y0']) / mpl.ratio;\n",
       "    var x1 = msg['x1'] / mpl.ratio;\n",
       "    var y1 = (fig.canvas.height - msg['y1']) / mpl.ratio;\n",
       "    x0 = Math.floor(x0) + 0.5;\n",
       "    y0 = Math.floor(y0) + 0.5;\n",
       "    x1 = Math.floor(x1) + 0.5;\n",
       "    y1 = Math.floor(y1) + 0.5;\n",
       "    var min_x = Math.min(x0, x1);\n",
       "    var min_y = Math.min(y0, y1);\n",
       "    var width = Math.abs(x1 - x0);\n",
       "    var height = Math.abs(y1 - y0);\n",
       "\n",
       "    fig.rubberband_context.clearRect(\n",
       "        0, 0, fig.canvas.width, fig.canvas.height);\n",
       "\n",
       "    fig.rubberband_context.strokeRect(min_x, min_y, width, height);\n",
       "}\n",
       "\n",
       "mpl.figure.prototype.handle_figure_label = function(fig, msg) {\n",
       "    // Updates the figure title.\n",
       "    fig.header.textContent = msg['label'];\n",
       "}\n",
       "\n",
       "mpl.figure.prototype.handle_cursor = function(fig, msg) {\n",
       "    var cursor = msg['cursor'];\n",
       "    switch(cursor)\n",
       "    {\n",
       "    case 0:\n",
       "        cursor = 'pointer';\n",
       "        break;\n",
       "    case 1:\n",
       "        cursor = 'default';\n",
       "        break;\n",
       "    case 2:\n",
       "        cursor = 'crosshair';\n",
       "        break;\n",
       "    case 3:\n",
       "        cursor = 'move';\n",
       "        break;\n",
       "    }\n",
       "    fig.rubberband_canvas.style.cursor = cursor;\n",
       "}\n",
       "\n",
       "mpl.figure.prototype.handle_message = function(fig, msg) {\n",
       "    fig.message.textContent = msg['message'];\n",
       "}\n",
       "\n",
       "mpl.figure.prototype.handle_draw = function(fig, msg) {\n",
       "    // Request the server to send over a new figure.\n",
       "    fig.send_draw_message();\n",
       "}\n",
       "\n",
       "mpl.figure.prototype.handle_image_mode = function(fig, msg) {\n",
       "    fig.image_mode = msg['mode'];\n",
       "}\n",
       "\n",
       "mpl.figure.prototype.updated_canvas_event = function() {\n",
       "    // Called whenever the canvas gets updated.\n",
       "    this.send_message(\"ack\", {});\n",
       "}\n",
       "\n",
       "// A function to construct a web socket function for onmessage handling.\n",
       "// Called in the figure constructor.\n",
       "mpl.figure.prototype._make_on_message_function = function(fig) {\n",
       "    return function socket_on_message(evt) {\n",
       "        if (evt.data instanceof Blob) {\n",
       "            /* FIXME: We get \"Resource interpreted as Image but\n",
       "             * transferred with MIME type text/plain:\" errors on\n",
       "             * Chrome.  But how to set the MIME type?  It doesn't seem\n",
       "             * to be part of the websocket stream */\n",
       "            evt.data.type = \"image/png\";\n",
       "\n",
       "            /* Free the memory for the previous frames */\n",
       "            if (fig.imageObj.src) {\n",
       "                (window.URL || window.webkitURL).revokeObjectURL(\n",
       "                    fig.imageObj.src);\n",
       "            }\n",
       "\n",
       "            fig.imageObj.src = (window.URL || window.webkitURL).createObjectURL(\n",
       "                evt.data);\n",
       "            fig.updated_canvas_event();\n",
       "            fig.waiting = false;\n",
       "            return;\n",
       "        }\n",
       "        else if (typeof evt.data === 'string' && evt.data.slice(0, 21) == \"data:image/png;base64\") {\n",
       "            fig.imageObj.src = evt.data;\n",
       "            fig.updated_canvas_event();\n",
       "            fig.waiting = false;\n",
       "            return;\n",
       "        }\n",
       "\n",
       "        var msg = JSON.parse(evt.data);\n",
       "        var msg_type = msg['type'];\n",
       "\n",
       "        // Call the  \"handle_{type}\" callback, which takes\n",
       "        // the figure and JSON message as its only arguments.\n",
       "        try {\n",
       "            var callback = fig[\"handle_\" + msg_type];\n",
       "        } catch (e) {\n",
       "            console.log(\"No handler for the '\" + msg_type + \"' message type: \", msg);\n",
       "            return;\n",
       "        }\n",
       "\n",
       "        if (callback) {\n",
       "            try {\n",
       "                // console.log(\"Handling '\" + msg_type + \"' message: \", msg);\n",
       "                callback(fig, msg);\n",
       "            } catch (e) {\n",
       "                console.log(\"Exception inside the 'handler_\" + msg_type + \"' callback:\", e, e.stack, msg);\n",
       "            }\n",
       "        }\n",
       "    };\n",
       "}\n",
       "\n",
       "// from http://stackoverflow.com/questions/1114465/getting-mouse-location-in-canvas\n",
       "mpl.findpos = function(e) {\n",
       "    //this section is from http://www.quirksmode.org/js/events_properties.html\n",
       "    var targ;\n",
       "    if (!e)\n",
       "        e = window.event;\n",
       "    if (e.target)\n",
       "        targ = e.target;\n",
       "    else if (e.srcElement)\n",
       "        targ = e.srcElement;\n",
       "    if (targ.nodeType == 3) // defeat Safari bug\n",
       "        targ = targ.parentNode;\n",
       "\n",
       "    // jQuery normalizes the pageX and pageY\n",
       "    // pageX,Y are the mouse positions relative to the document\n",
       "    // offset() returns the position of the element relative to the document\n",
       "    var x = e.pageX - $(targ).offset().left;\n",
       "    var y = e.pageY - $(targ).offset().top;\n",
       "\n",
       "    return {\"x\": x, \"y\": y};\n",
       "};\n",
       "\n",
       "/*\n",
       " * return a copy of an object with only non-object keys\n",
       " * we need this to avoid circular references\n",
       " * http://stackoverflow.com/a/24161582/3208463\n",
       " */\n",
       "function simpleKeys (original) {\n",
       "  return Object.keys(original).reduce(function (obj, key) {\n",
       "    if (typeof original[key] !== 'object')\n",
       "        obj[key] = original[key]\n",
       "    return obj;\n",
       "  }, {});\n",
       "}\n",
       "\n",
       "mpl.figure.prototype.mouse_event = function(event, name) {\n",
       "    var canvas_pos = mpl.findpos(event)\n",
       "\n",
       "    if (name === 'button_press')\n",
       "    {\n",
       "        this.canvas.focus();\n",
       "        this.canvas_div.focus();\n",
       "    }\n",
       "\n",
       "    var x = canvas_pos.x * mpl.ratio;\n",
       "    var y = canvas_pos.y * mpl.ratio;\n",
       "\n",
       "    this.send_message(name, {x: x, y: y, button: event.button,\n",
       "                             step: event.step,\n",
       "                             guiEvent: simpleKeys(event)});\n",
       "\n",
       "    /* This prevents the web browser from automatically changing to\n",
       "     * the text insertion cursor when the button is pressed.  We want\n",
       "     * to control all of the cursor setting manually through the\n",
       "     * 'cursor' event from matplotlib */\n",
       "    event.preventDefault();\n",
       "    return false;\n",
       "}\n",
       "\n",
       "mpl.figure.prototype._key_event_extra = function(event, name) {\n",
       "    // Handle any extra behaviour associated with a key event\n",
       "}\n",
       "\n",
       "mpl.figure.prototype.key_event = function(event, name) {\n",
       "\n",
       "    // Prevent repeat events\n",
       "    if (name == 'key_press')\n",
       "    {\n",
       "        if (event.which === this._key)\n",
       "            return;\n",
       "        else\n",
       "            this._key = event.which;\n",
       "    }\n",
       "    if (name == 'key_release')\n",
       "        this._key = null;\n",
       "\n",
       "    var value = '';\n",
       "    if (event.ctrlKey && event.which != 17)\n",
       "        value += \"ctrl+\";\n",
       "    if (event.altKey && event.which != 18)\n",
       "        value += \"alt+\";\n",
       "    if (event.shiftKey && event.which != 16)\n",
       "        value += \"shift+\";\n",
       "\n",
       "    value += 'k';\n",
       "    value += event.which.toString();\n",
       "\n",
       "    this._key_event_extra(event, name);\n",
       "\n",
       "    this.send_message(name, {key: value,\n",
       "                             guiEvent: simpleKeys(event)});\n",
       "    return false;\n",
       "}\n",
       "\n",
       "mpl.figure.prototype.toolbar_button_onclick = function(name) {\n",
       "    if (name == 'download') {\n",
       "        this.handle_save(this, null);\n",
       "    } else {\n",
       "        this.send_message(\"toolbar_button\", {name: name});\n",
       "    }\n",
       "};\n",
       "\n",
       "mpl.figure.prototype.toolbar_button_onmouseover = function(tooltip) {\n",
       "    this.message.textContent = tooltip;\n",
       "};\n",
       "mpl.toolbar_items = [[\"Home\", \"Reset original view\", \"fa fa-home icon-home\", \"home\"], [\"Back\", \"Back to  previous view\", \"fa fa-arrow-left icon-arrow-left\", \"back\"], [\"Forward\", \"Forward to next view\", \"fa fa-arrow-right icon-arrow-right\", \"forward\"], [\"\", \"\", \"\", \"\"], [\"Pan\", \"Pan axes with left mouse, zoom with right\", \"fa fa-arrows icon-move\", \"pan\"], [\"Zoom\", \"Zoom to rectangle\", \"fa fa-square-o icon-check-empty\", \"zoom\"], [\"\", \"\", \"\", \"\"], [\"Download\", \"Download plot\", \"fa fa-floppy-o icon-save\", \"download\"]];\n",
       "\n",
       "mpl.extensions = [\"eps\", \"jpeg\", \"pdf\", \"png\", \"ps\", \"raw\", \"svg\", \"tif\"];\n",
       "\n",
       "mpl.default_extension = \"png\";var comm_websocket_adapter = function(comm) {\n",
       "    // Create a \"websocket\"-like object which calls the given IPython comm\n",
       "    // object with the appropriate methods. Currently this is a non binary\n",
       "    // socket, so there is still some room for performance tuning.\n",
       "    var ws = {};\n",
       "\n",
       "    ws.close = function() {\n",
       "        comm.close()\n",
       "    };\n",
       "    ws.send = function(m) {\n",
       "        //console.log('sending', m);\n",
       "        comm.send(m);\n",
       "    };\n",
       "    // Register the callback with on_msg.\n",
       "    comm.on_msg(function(msg) {\n",
       "        //console.log('receiving', msg['content']['data'], msg);\n",
       "        // Pass the mpl event to the overridden (by mpl) onmessage function.\n",
       "        ws.onmessage(msg['content']['data'])\n",
       "    });\n",
       "    return ws;\n",
       "}\n",
       "\n",
       "mpl.mpl_figure_comm = function(comm, msg) {\n",
       "    // This is the function which gets called when the mpl process\n",
       "    // starts-up an IPython Comm through the \"matplotlib\" channel.\n",
       "\n",
       "    var id = msg.content.data.id;\n",
       "    // Get hold of the div created by the display call when the Comm\n",
       "    // socket was opened in Python.\n",
       "    var element = $(\"#\" + id);\n",
       "    var ws_proxy = comm_websocket_adapter(comm)\n",
       "\n",
       "    function ondownload(figure, format) {\n",
       "        window.open(figure.imageObj.src);\n",
       "    }\n",
       "\n",
       "    var fig = new mpl.figure(id, ws_proxy,\n",
       "                           ondownload,\n",
       "                           element.get(0));\n",
       "\n",
       "    // Call onopen now - mpl needs it, as it is assuming we've passed it a real\n",
       "    // web socket which is closed, not our websocket->open comm proxy.\n",
       "    ws_proxy.onopen();\n",
       "\n",
       "    fig.parent_element = element.get(0);\n",
       "    fig.cell_info = mpl.find_output_cell(\"<div id='\" + id + \"'></div>\");\n",
       "    if (!fig.cell_info) {\n",
       "        console.error(\"Failed to find cell for figure\", id, fig);\n",
       "        return;\n",
       "    }\n",
       "\n",
       "    var output_index = fig.cell_info[2]\n",
       "    var cell = fig.cell_info[0];\n",
       "\n",
       "};\n",
       "\n",
       "mpl.figure.prototype.handle_close = function(fig, msg) {\n",
       "    var width = fig.canvas.width/mpl.ratio\n",
       "    fig.root.unbind('remove')\n",
       "\n",
       "    // Update the output cell to use the data from the current canvas.\n",
       "    fig.push_to_output();\n",
       "    var dataURL = fig.canvas.toDataURL();\n",
       "    // Re-enable the keyboard manager in IPython - without this line, in FF,\n",
       "    // the notebook keyboard shortcuts fail.\n",
       "    IPython.keyboard_manager.enable()\n",
       "    $(fig.parent_element).html('<img src=\"' + dataURL + '\" width=\"' + width + '\">');\n",
       "    fig.close_ws(fig, msg);\n",
       "}\n",
       "\n",
       "mpl.figure.prototype.close_ws = function(fig, msg){\n",
       "    fig.send_message('closing', msg);\n",
       "    // fig.ws.close()\n",
       "}\n",
       "\n",
       "mpl.figure.prototype.push_to_output = function(remove_interactive) {\n",
       "    // Turn the data on the canvas into data in the output cell.\n",
       "    var width = this.canvas.width/mpl.ratio\n",
       "    var dataURL = this.canvas.toDataURL();\n",
       "    this.cell_info[1]['text/html'] = '<img src=\"' + dataURL + '\" width=\"' + width + '\">';\n",
       "}\n",
       "\n",
       "mpl.figure.prototype.updated_canvas_event = function() {\n",
       "    // Tell IPython that the notebook contents must change.\n",
       "    IPython.notebook.set_dirty(true);\n",
       "    this.send_message(\"ack\", {});\n",
       "    var fig = this;\n",
       "    // Wait a second, then push the new image to the DOM so\n",
       "    // that it is saved nicely (might be nice to debounce this).\n",
       "    setTimeout(function () { fig.push_to_output() }, 1000);\n",
       "}\n",
       "\n",
       "mpl.figure.prototype._init_toolbar = function() {\n",
       "    var fig = this;\n",
       "\n",
       "    var nav_element = $('<div/>')\n",
       "    nav_element.attr('style', 'width: 100%');\n",
       "    this.root.append(nav_element);\n",
       "\n",
       "    // Define a callback function for later on.\n",
       "    function toolbar_event(event) {\n",
       "        return fig.toolbar_button_onclick(event['data']);\n",
       "    }\n",
       "    function toolbar_mouse_event(event) {\n",
       "        return fig.toolbar_button_onmouseover(event['data']);\n",
       "    }\n",
       "\n",
       "    for(var toolbar_ind in mpl.toolbar_items){\n",
       "        var name = mpl.toolbar_items[toolbar_ind][0];\n",
       "        var tooltip = mpl.toolbar_items[toolbar_ind][1];\n",
       "        var image = mpl.toolbar_items[toolbar_ind][2];\n",
       "        var method_name = mpl.toolbar_items[toolbar_ind][3];\n",
       "\n",
       "        if (!name) { continue; };\n",
       "\n",
       "        var button = $('<button class=\"btn btn-default\" href=\"#\" title=\"' + name + '\"><i class=\"fa ' + image + ' fa-lg\"></i></button>');\n",
       "        button.click(method_name, toolbar_event);\n",
       "        button.mouseover(tooltip, toolbar_mouse_event);\n",
       "        nav_element.append(button);\n",
       "    }\n",
       "\n",
       "    // Add the status bar.\n",
       "    var status_bar = $('<span class=\"mpl-message\" style=\"text-align:right; float: right;\"/>');\n",
       "    nav_element.append(status_bar);\n",
       "    this.message = status_bar[0];\n",
       "\n",
       "    // Add the close button to the window.\n",
       "    var buttongrp = $('<div class=\"btn-group inline pull-right\"></div>');\n",
       "    var button = $('<button class=\"btn btn-mini btn-primary\" href=\"#\" title=\"Stop Interaction\"><i class=\"fa fa-power-off icon-remove icon-large\"></i></button>');\n",
       "    button.click(function (evt) { fig.handle_close(fig, {}); } );\n",
       "    button.mouseover('Stop Interaction', toolbar_mouse_event);\n",
       "    buttongrp.append(button);\n",
       "    var titlebar = this.root.find($('.ui-dialog-titlebar'));\n",
       "    titlebar.prepend(buttongrp);\n",
       "}\n",
       "\n",
       "mpl.figure.prototype._root_extra_style = function(el){\n",
       "    var fig = this\n",
       "    el.on(\"remove\", function(){\n",
       "\tfig.close_ws(fig, {});\n",
       "    });\n",
       "}\n",
       "\n",
       "mpl.figure.prototype._canvas_extra_style = function(el){\n",
       "    // this is important to make the div 'focusable\n",
       "    el.attr('tabindex', 0)\n",
       "    // reach out to IPython and tell the keyboard manager to turn it's self\n",
       "    // off when our div gets focus\n",
       "\n",
       "    // location in version 3\n",
       "    if (IPython.notebook.keyboard_manager) {\n",
       "        IPython.notebook.keyboard_manager.register_events(el);\n",
       "    }\n",
       "    else {\n",
       "        // location in version 2\n",
       "        IPython.keyboard_manager.register_events(el);\n",
       "    }\n",
       "\n",
       "}\n",
       "\n",
       "mpl.figure.prototype._key_event_extra = function(event, name) {\n",
       "    var manager = IPython.notebook.keyboard_manager;\n",
       "    if (!manager)\n",
       "        manager = IPython.keyboard_manager;\n",
       "\n",
       "    // Check for shift+enter\n",
       "    if (event.shiftKey && event.which == 13) {\n",
       "        this.canvas_div.blur();\n",
       "        event.shiftKey = false;\n",
       "        // Send a \"J\" for go to next cell\n",
       "        event.which = 74;\n",
       "        event.keyCode = 74;\n",
       "        manager.command_mode();\n",
       "        manager.handle_keydown(event);\n",
       "    }\n",
       "}\n",
       "\n",
       "mpl.figure.prototype.handle_save = function(fig, msg) {\n",
       "    fig.ondownload(fig, null);\n",
       "}\n",
       "\n",
       "\n",
       "mpl.find_output_cell = function(html_output) {\n",
       "    // Return the cell and output element which can be found *uniquely* in the notebook.\n",
       "    // Note - this is a bit hacky, but it is done because the \"notebook_saving.Notebook\"\n",
       "    // IPython event is triggered only after the cells have been serialised, which for\n",
       "    // our purposes (turning an active figure into a static one), is too late.\n",
       "    var cells = IPython.notebook.get_cells();\n",
       "    var ncells = cells.length;\n",
       "    for (var i=0; i<ncells; i++) {\n",
       "        var cell = cells[i];\n",
       "        if (cell.cell_type === 'code'){\n",
       "            for (var j=0; j<cell.output_area.outputs.length; j++) {\n",
       "                var data = cell.output_area.outputs[j];\n",
       "                if (data.data) {\n",
       "                    // IPython >= 3 moved mimebundle to data attribute of output\n",
       "                    data = data.data;\n",
       "                }\n",
       "                if (data['text/html'] == html_output) {\n",
       "                    return [cell, data, j];\n",
       "                }\n",
       "            }\n",
       "        }\n",
       "    }\n",
       "}\n",
       "\n",
       "// Register the function which deals with the matplotlib target/channel.\n",
       "// The kernel may be null if the page has been refreshed.\n",
       "if (IPython.notebook.kernel != null) {\n",
       "    IPython.notebook.kernel.comm_manager.register_target('matplotlib', mpl.mpl_figure_comm);\n",
       "}\n"
      ],
      "text/plain": [
       "<IPython.core.display.Javascript object>"
      ]
     },
     "metadata": {},
     "output_type": "display_data"
    },
    {
     "data": {
      "text/html": [
       "<img src=\"data:image/png;base64,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\" width=\"921\">"
      ],
      "text/plain": [
       "<IPython.core.display.HTML object>"
      ]
     },
     "metadata": {},
     "output_type": "display_data"
    }
   ],
   "source": [
    "sns.set_style('darkgrid')\n",
    "ax = count_trafcollisions.plot(x='Date',y='count_collisions', legend=False)\n",
    "ax2 = ax.twinx()\n",
    "count_trafcollisions.plot(x='Date',y='Total', legend=False, color='r', ax=ax2)\n",
    "date_form = DateFormatter(\"%m/%d\")\n",
    "ax.xaxis.set_major_formatter(date_form)\n",
    "ax.xaxis.set_major_locator(mdates.WeekdayLocator(interval=1))\n",
    "ax.figure.legend()\n",
    "plt.show()"
   ]
  },
  {
   "cell_type": "code",
   "execution_count": 28,
   "metadata": {},
   "outputs": [
    {
     "data": {
      "text/html": [
       "<div>\n",
       "<style scoped>\n",
       "    .dataframe tbody tr th:only-of-type {\n",
       "        vertical-align: middle;\n",
       "    }\n",
       "\n",
       "    .dataframe tbody tr th {\n",
       "        vertical-align: top;\n",
       "    }\n",
       "\n",
       "    .dataframe thead th {\n",
       "        text-align: right;\n",
       "    }\n",
       "</style>\n",
       "<table border=\"1\" class=\"dataframe\">\n",
       "  <thead>\n",
       "    <tr style=\"text-align: right;\">\n",
       "      <th></th>\n",
       "      <th>Date</th>\n",
       "      <th>count_collisions</th>\n",
       "      <th>Total</th>\n",
       "    </tr>\n",
       "  </thead>\n",
       "  <tbody>\n",
       "    <tr>\n",
       "      <th>802</th>\n",
       "      <td>2020-03-13</td>\n",
       "      <td>28</td>\n",
       "      <td>2.0</td>\n",
       "    </tr>\n",
       "    <tr>\n",
       "      <th>803</th>\n",
       "      <td>2020-03-14</td>\n",
       "      <td>18</td>\n",
       "      <td>8.0</td>\n",
       "    </tr>\n",
       "    <tr>\n",
       "      <th>804</th>\n",
       "      <td>2020-03-15</td>\n",
       "      <td>16</td>\n",
       "      <td>39.0</td>\n",
       "    </tr>\n",
       "    <tr>\n",
       "      <th>805</th>\n",
       "      <td>2020-03-16</td>\n",
       "      <td>13</td>\n",
       "      <td>55.0</td>\n",
       "    </tr>\n",
       "    <tr>\n",
       "      <th>806</th>\n",
       "      <td>2020-03-17</td>\n",
       "      <td>10</td>\n",
       "      <td>60.0</td>\n",
       "    </tr>\n",
       "  </tbody>\n",
       "</table>\n",
       "</div>"
      ],
      "text/plain": [
       "           Date  count_collisions  Total\n",
       "802  2020-03-13                28    2.0\n",
       "803  2020-03-14                18    8.0\n",
       "804  2020-03-15                16   39.0\n",
       "805  2020-03-16                13   55.0\n",
       "806  2020-03-17                10   60.0"
      ]
     },
     "execution_count": 28,
     "metadata": {},
     "output_type": "execute_result"
    }
   ],
   "source": [
    "scattercount_trafcollisions = count_trafcollisions.loc[802:]\n",
    "scattercount_trafcollisions.head()"
   ]
  },
  {
   "cell_type": "code",
   "execution_count": 30,
   "metadata": {},
   "outputs": [
    {
     "data": {
      "application/vnd.plotly.v1+json": {
       "config": {
        "plotlyServerURL": "https://plot.ly"
       },
       "data": [
        {
         "hoverlabel": {
          "namelength": 0
         },
         "hovertemplate": "Total=%{x}<br>count_collisions=%{y}",
         "legendgroup": "",
         "marker": {
          "color": "#636efa",
          "symbol": "circle"
         },
         "mode": "markers",
         "name": "",
         "showlegend": false,
         "type": "scatter",
         "x": [
          2,
          8,
          39,
          55,
          60,
          80,
          105,
          131,
          159,
          205,
          230,
          242,
          297,
          341,
          417,
          519,
          603,
          734,
          849,
          966
         ],
         "xaxis": "x",
         "y": [
          28,
          18,
          16,
          13,
          10,
          13,
          14,
          14,
          14,
          6,
          10,
          14,
          9,
          9,
          9,
          8,
          10,
          8,
          7,
          1
         ],
         "yaxis": "y"
        },
        {
         "hoverlabel": {
          "namelength": 0
         },
         "hovertemplate": "<b>OLS trendline</b><br>count_collisions = -0.0135596 * Total + 15.6464<br>R<sup>2</sup>=0.511776<br><br>Total=%{x}<br>count_collisions=%{y} <b>(trend)</b>",
         "legendgroup": "",
         "marker": {
          "color": "#636efa",
          "symbol": "circle"
         },
         "mode": "lines",
         "name": "",
         "showlegend": false,
         "type": "scatter",
         "x": [
          2,
          8,
          39,
          55,
          60,
          80,
          105,
          131,
          159,
          205,
          230,
          242,
          297,
          341,
          417,
          519,
          603,
          734,
          849,
          966
         ],
         "xaxis": "x",
         "y": [
          15.619250626021735,
          15.53789273279904,
          15.117543617815123,
          14.900589235887939,
          14.832790991535695,
          14.561598014126716,
          14.222606792365491,
          13.870055921733819,
          13.490385753361247,
          12.866641905320595,
          12.52765068355937,
          12.364934897113983,
          11.61915420923929,
          11.022529658939536,
          9.991996344785413,
          8.608912159999619,
          7.469901654881907,
          5.6935876528530915,
          4.1342280327514604,
          2.5477491149089317
         ],
         "yaxis": "y"
        }
       ],
       "layout": {
        "legend": {
         "tracegroupgap": 0
        },
        "margin": {
         "t": 60
        },
        "template": {
         "data": {
          "bar": [
           {
            "error_x": {
             "color": "#2a3f5f"
            },
            "error_y": {
             "color": "#2a3f5f"
            },
            "marker": {
             "line": {
              "color": "#E5ECF6",
              "width": 0.5
             }
            },
            "type": "bar"
           }
          ],
          "barpolar": [
           {
            "marker": {
             "line": {
              "color": "#E5ECF6",
              "width": 0.5
             }
            },
            "type": "barpolar"
           }
          ],
          "carpet": [
           {
            "aaxis": {
             "endlinecolor": "#2a3f5f",
             "gridcolor": "white",
             "linecolor": "white",
             "minorgridcolor": "white",
             "startlinecolor": "#2a3f5f"
            },
            "baxis": {
             "endlinecolor": "#2a3f5f",
             "gridcolor": "white",
             "linecolor": "white",
             "minorgridcolor": "white",
             "startlinecolor": "#2a3f5f"
            },
            "type": "carpet"
           }
          ],
          "choropleth": [
           {
            "colorbar": {
             "outlinewidth": 0,
             "ticks": ""
            },
            "type": "choropleth"
           }
          ],
          "contour": [
           {
            "colorbar": {
             "outlinewidth": 0,
             "ticks": ""
            },
            "colorscale": [
             [
              0,
              "#0d0887"
             ],
             [
              0.1111111111111111,
              "#46039f"
             ],
             [
              0.2222222222222222,
              "#7201a8"
             ],
             [
              0.3333333333333333,
              "#9c179e"
             ],
             [
              0.4444444444444444,
              "#bd3786"
             ],
             [
              0.5555555555555556,
              "#d8576b"
             ],
             [
              0.6666666666666666,
              "#ed7953"
             ],
             [
              0.7777777777777778,
              "#fb9f3a"
             ],
             [
              0.8888888888888888,
              "#fdca26"
             ],
             [
              1,
              "#f0f921"
             ]
            ],
            "type": "contour"
           }
          ],
          "contourcarpet": [
           {
            "colorbar": {
             "outlinewidth": 0,
             "ticks": ""
            },
            "type": "contourcarpet"
           }
          ],
          "heatmap": [
           {
            "colorbar": {
             "outlinewidth": 0,
             "ticks": ""
            },
            "colorscale": [
             [
              0,
              "#0d0887"
             ],
             [
              0.1111111111111111,
              "#46039f"
             ],
             [
              0.2222222222222222,
              "#7201a8"
             ],
             [
              0.3333333333333333,
              "#9c179e"
             ],
             [
              0.4444444444444444,
              "#bd3786"
             ],
             [
              0.5555555555555556,
              "#d8576b"
             ],
             [
              0.6666666666666666,
              "#ed7953"
             ],
             [
              0.7777777777777778,
              "#fb9f3a"
             ],
             [
              0.8888888888888888,
              "#fdca26"
             ],
             [
              1,
              "#f0f921"
             ]
            ],
            "type": "heatmap"
           }
          ],
          "heatmapgl": [
           {
            "colorbar": {
             "outlinewidth": 0,
             "ticks": ""
            },
            "colorscale": [
             [
              0,
              "#0d0887"
             ],
             [
              0.1111111111111111,
              "#46039f"
             ],
             [
              0.2222222222222222,
              "#7201a8"
             ],
             [
              0.3333333333333333,
              "#9c179e"
             ],
             [
              0.4444444444444444,
              "#bd3786"
             ],
             [
              0.5555555555555556,
              "#d8576b"
             ],
             [
              0.6666666666666666,
              "#ed7953"
             ],
             [
              0.7777777777777778,
              "#fb9f3a"
             ],
             [
              0.8888888888888888,
              "#fdca26"
             ],
             [
              1,
              "#f0f921"
             ]
            ],
            "type": "heatmapgl"
           }
          ],
          "histogram": [
           {
            "marker": {
             "colorbar": {
              "outlinewidth": 0,
              "ticks": ""
             }
            },
            "type": "histogram"
           }
          ],
          "histogram2d": [
           {
            "colorbar": {
             "outlinewidth": 0,
             "ticks": ""
            },
            "colorscale": [
             [
              0,
              "#0d0887"
             ],
             [
              0.1111111111111111,
              "#46039f"
             ],
             [
              0.2222222222222222,
              "#7201a8"
             ],
             [
              0.3333333333333333,
              "#9c179e"
             ],
             [
              0.4444444444444444,
              "#bd3786"
             ],
             [
              0.5555555555555556,
              "#d8576b"
             ],
             [
              0.6666666666666666,
              "#ed7953"
             ],
             [
              0.7777777777777778,
              "#fb9f3a"
             ],
             [
              0.8888888888888888,
              "#fdca26"
             ],
             [
              1,
              "#f0f921"
             ]
            ],
            "type": "histogram2d"
           }
          ],
          "histogram2dcontour": [
           {
            "colorbar": {
             "outlinewidth": 0,
             "ticks": ""
            },
            "colorscale": [
             [
              0,
              "#0d0887"
             ],
             [
              0.1111111111111111,
              "#46039f"
             ],
             [
              0.2222222222222222,
              "#7201a8"
             ],
             [
              0.3333333333333333,
              "#9c179e"
             ],
             [
              0.4444444444444444,
              "#bd3786"
             ],
             [
              0.5555555555555556,
              "#d8576b"
             ],
             [
              0.6666666666666666,
              "#ed7953"
             ],
             [
              0.7777777777777778,
              "#fb9f3a"
             ],
             [
              0.8888888888888888,
              "#fdca26"
             ],
             [
              1,
              "#f0f921"
             ]
            ],
            "type": "histogram2dcontour"
           }
          ],
          "mesh3d": [
           {
            "colorbar": {
             "outlinewidth": 0,
             "ticks": ""
            },
            "type": "mesh3d"
           }
          ],
          "parcoords": [
           {
            "line": {
             "colorbar": {
              "outlinewidth": 0,
              "ticks": ""
             }
            },
            "type": "parcoords"
           }
          ],
          "pie": [
           {
            "automargin": true,
            "type": "pie"
           }
          ],
          "scatter": [
           {
            "marker": {
             "colorbar": {
              "outlinewidth": 0,
              "ticks": ""
             }
            },
            "type": "scatter"
           }
          ],
          "scatter3d": [
           {
            "line": {
             "colorbar": {
              "outlinewidth": 0,
              "ticks": ""
             }
            },
            "marker": {
             "colorbar": {
              "outlinewidth": 0,
              "ticks": ""
             }
            },
            "type": "scatter3d"
           }
          ],
          "scattercarpet": [
           {
            "marker": {
             "colorbar": {
              "outlinewidth": 0,
              "ticks": ""
             }
            },
            "type": "scattercarpet"
           }
          ],
          "scattergeo": [
           {
            "marker": {
             "colorbar": {
              "outlinewidth": 0,
              "ticks": ""
             }
            },
            "type": "scattergeo"
           }
          ],
          "scattergl": [
           {
            "marker": {
             "colorbar": {
              "outlinewidth": 0,
              "ticks": ""
             }
            },
            "type": "scattergl"
           }
          ],
          "scattermapbox": [
           {
            "marker": {
             "colorbar": {
              "outlinewidth": 0,
              "ticks": ""
             }
            },
            "type": "scattermapbox"
           }
          ],
          "scatterpolar": [
           {
            "marker": {
             "colorbar": {
              "outlinewidth": 0,
              "ticks": ""
             }
            },
            "type": "scatterpolar"
           }
          ],
          "scatterpolargl": [
           {
            "marker": {
             "colorbar": {
              "outlinewidth": 0,
              "ticks": ""
             }
            },
            "type": "scatterpolargl"
           }
          ],
          "scatterternary": [
           {
            "marker": {
             "colorbar": {
              "outlinewidth": 0,
              "ticks": ""
             }
            },
            "type": "scatterternary"
           }
          ],
          "surface": [
           {
            "colorbar": {
             "outlinewidth": 0,
             "ticks": ""
            },
            "colorscale": [
             [
              0,
              "#0d0887"
             ],
             [
              0.1111111111111111,
              "#46039f"
             ],
             [
              0.2222222222222222,
              "#7201a8"
             ],
             [
              0.3333333333333333,
              "#9c179e"
             ],
             [
              0.4444444444444444,
              "#bd3786"
             ],
             [
              0.5555555555555556,
              "#d8576b"
             ],
             [
              0.6666666666666666,
              "#ed7953"
             ],
             [
              0.7777777777777778,
              "#fb9f3a"
             ],
             [
              0.8888888888888888,
              "#fdca26"
             ],
             [
              1,
              "#f0f921"
             ]
            ],
            "type": "surface"
           }
          ],
          "table": [
           {
            "cells": {
             "fill": {
              "color": "#EBF0F8"
             },
             "line": {
              "color": "white"
             }
            },
            "header": {
             "fill": {
              "color": "#C8D4E3"
             },
             "line": {
              "color": "white"
             }
            },
            "type": "table"
           }
          ]
         },
         "layout": {
          "annotationdefaults": {
           "arrowcolor": "#2a3f5f",
           "arrowhead": 0,
           "arrowwidth": 1
          },
          "coloraxis": {
           "colorbar": {
            "outlinewidth": 0,
            "ticks": ""
           }
          },
          "colorscale": {
           "diverging": [
            [
             0,
             "#8e0152"
            ],
            [
             0.1,
             "#c51b7d"
            ],
            [
             0.2,
             "#de77ae"
            ],
            [
             0.3,
             "#f1b6da"
            ],
            [
             0.4,
             "#fde0ef"
            ],
            [
             0.5,
             "#f7f7f7"
            ],
            [
             0.6,
             "#e6f5d0"
            ],
            [
             0.7,
             "#b8e186"
            ],
            [
             0.8,
             "#7fbc41"
            ],
            [
             0.9,
             "#4d9221"
            ],
            [
             1,
             "#276419"
            ]
           ],
           "sequential": [
            [
             0,
             "#0d0887"
            ],
            [
             0.1111111111111111,
             "#46039f"
            ],
            [
             0.2222222222222222,
             "#7201a8"
            ],
            [
             0.3333333333333333,
             "#9c179e"
            ],
            [
             0.4444444444444444,
             "#bd3786"
            ],
            [
             0.5555555555555556,
             "#d8576b"
            ],
            [
             0.6666666666666666,
             "#ed7953"
            ],
            [
             0.7777777777777778,
             "#fb9f3a"
            ],
            [
             0.8888888888888888,
             "#fdca26"
            ],
            [
             1,
             "#f0f921"
            ]
           ],
           "sequentialminus": [
            [
             0,
             "#0d0887"
            ],
            [
             0.1111111111111111,
             "#46039f"
            ],
            [
             0.2222222222222222,
             "#7201a8"
            ],
            [
             0.3333333333333333,
             "#9c179e"
            ],
            [
             0.4444444444444444,
             "#bd3786"
            ],
            [
             0.5555555555555556,
             "#d8576b"
            ],
            [
             0.6666666666666666,
             "#ed7953"
            ],
            [
             0.7777777777777778,
             "#fb9f3a"
            ],
            [
             0.8888888888888888,
             "#fdca26"
            ],
            [
             1,
             "#f0f921"
            ]
           ]
          },
          "colorway": [
           "#636efa",
           "#EF553B",
           "#00cc96",
           "#ab63fa",
           "#FFA15A",
           "#19d3f3",
           "#FF6692",
           "#B6E880",
           "#FF97FF",
           "#FECB52"
          ],
          "font": {
           "color": "#2a3f5f"
          },
          "geo": {
           "bgcolor": "white",
           "lakecolor": "white",
           "landcolor": "#E5ECF6",
           "showlakes": true,
           "showland": true,
           "subunitcolor": "white"
          },
          "hoverlabel": {
           "align": "left"
          },
          "hovermode": "closest",
          "mapbox": {
           "style": "light"
          },
          "paper_bgcolor": "white",
          "plot_bgcolor": "#E5ECF6",
          "polar": {
           "angularaxis": {
            "gridcolor": "white",
            "linecolor": "white",
            "ticks": ""
           },
           "bgcolor": "#E5ECF6",
           "radialaxis": {
            "gridcolor": "white",
            "linecolor": "white",
            "ticks": ""
           }
          },
          "scene": {
           "xaxis": {
            "backgroundcolor": "#E5ECF6",
            "gridcolor": "white",
            "gridwidth": 2,
            "linecolor": "white",
            "showbackground": true,
            "ticks": "",
            "zerolinecolor": "white"
           },
           "yaxis": {
            "backgroundcolor": "#E5ECF6",
            "gridcolor": "white",
            "gridwidth": 2,
            "linecolor": "white",
            "showbackground": true,
            "ticks": "",
            "zerolinecolor": "white"
           },
           "zaxis": {
            "backgroundcolor": "#E5ECF6",
            "gridcolor": "white",
            "gridwidth": 2,
            "linecolor": "white",
            "showbackground": true,
            "ticks": "",
            "zerolinecolor": "white"
           }
          },
          "shapedefaults": {
           "line": {
            "color": "#2a3f5f"
           }
          },
          "ternary": {
           "aaxis": {
            "gridcolor": "white",
            "linecolor": "white",
            "ticks": ""
           },
           "baxis": {
            "gridcolor": "white",
            "linecolor": "white",
            "ticks": ""
           },
           "bgcolor": "#E5ECF6",
           "caxis": {
            "gridcolor": "white",
            "linecolor": "white",
            "ticks": ""
           }
          },
          "title": {
           "x": 0.05
          },
          "xaxis": {
           "automargin": true,
           "gridcolor": "white",
           "linecolor": "white",
           "ticks": "",
           "title": {
            "standoff": 15
           },
           "zerolinecolor": "white",
           "zerolinewidth": 2
          },
          "yaxis": {
           "automargin": true,
           "gridcolor": "white",
           "linecolor": "white",
           "ticks": "",
           "title": {
            "standoff": 15
           },
           "zerolinecolor": "white",
           "zerolinewidth": 2
          }
         }
        },
        "xaxis": {
         "anchor": "y",
         "domain": [
          0,
          1
         ],
         "title": {
          "text": "Total"
         }
        },
        "yaxis": {
         "anchor": "x",
         "domain": [
          0,
          1
         ],
         "title": {
          "text": "count_collisions"
         }
        }
       }
      },
      "text/html": [
       "<div>\n",
       "        \n",
       "        \n",
       "            <div id=\"db604796-738f-4029-af8b-ed314b8cd81b\" class=\"plotly-graph-div\" style=\"height:525px; width:100%;\"></div>\n",
       "            <script type=\"text/javascript\">\n",
       "                require([\"plotly\"], function(Plotly) {\n",
       "                    window.PLOTLYENV=window.PLOTLYENV || {};\n",
       "                    \n",
       "                if (document.getElementById(\"db604796-738f-4029-af8b-ed314b8cd81b\")) {\n",
       "                    Plotly.newPlot(\n",
       "                        'db604796-738f-4029-af8b-ed314b8cd81b',\n",
       "                        [{\"hoverlabel\": {\"namelength\": 0}, \"hovertemplate\": \"Total=%{x}<br>count_collisions=%{y}\", \"legendgroup\": \"\", \"marker\": {\"color\": \"#636efa\", \"symbol\": \"circle\"}, \"mode\": \"markers\", \"name\": \"\", \"showlegend\": false, \"type\": \"scatter\", \"x\": [2.0, 8.0, 39.0, 55.0, 60.0, 80.0, 105.0, 131.0, 159.0, 205.0, 230.0, 242.0, 297.0, 341.0, 417.0, 519.0, 603.0, 734.0, 849.0, 966.0], \"xaxis\": \"x\", \"y\": [28, 18, 16, 13, 10, 13, 14, 14, 14, 6, 10, 14, 9, 9, 9, 8, 10, 8, 7, 1], \"yaxis\": \"y\"}, {\"hoverlabel\": {\"namelength\": 0}, \"hovertemplate\": \"<b>OLS trendline</b><br>count_collisions = -0.0135596 * Total + 15.6464<br>R<sup>2</sup>=0.511776<br><br>Total=%{x}<br>count_collisions=%{y} <b>(trend)</b>\", \"legendgroup\": \"\", \"marker\": {\"color\": \"#636efa\", \"symbol\": \"circle\"}, \"mode\": \"lines\", \"name\": \"\", \"showlegend\": false, \"type\": \"scatter\", \"x\": [2.0, 8.0, 39.0, 55.0, 60.0, 80.0, 105.0, 131.0, 159.0, 205.0, 230.0, 242.0, 297.0, 341.0, 417.0, 519.0, 603.0, 734.0, 849.0, 966.0], \"xaxis\": \"x\", \"y\": [15.619250626021735, 15.53789273279904, 15.117543617815123, 14.900589235887939, 14.832790991535695, 14.561598014126716, 14.222606792365491, 13.870055921733819, 13.490385753361247, 12.866641905320595, 12.52765068355937, 12.364934897113983, 11.61915420923929, 11.022529658939536, 9.991996344785413, 8.608912159999619, 7.469901654881907, 5.6935876528530915, 4.1342280327514604, 2.5477491149089317], \"yaxis\": \"y\"}],\n",
       "                        {\"legend\": {\"tracegroupgap\": 0}, \"margin\": {\"t\": 60}, \"template\": {\"data\": {\"bar\": [{\"error_x\": {\"color\": \"#2a3f5f\"}, \"error_y\": {\"color\": \"#2a3f5f\"}, \"marker\": {\"line\": {\"color\": \"#E5ECF6\", \"width\": 0.5}}, \"type\": \"bar\"}], \"barpolar\": [{\"marker\": {\"line\": {\"color\": \"#E5ECF6\", \"width\": 0.5}}, \"type\": \"barpolar\"}], \"carpet\": [{\"aaxis\": {\"endlinecolor\": \"#2a3f5f\", \"gridcolor\": \"white\", \"linecolor\": \"white\", \"minorgridcolor\": \"white\", \"startlinecolor\": \"#2a3f5f\"}, \"baxis\": {\"endlinecolor\": \"#2a3f5f\", \"gridcolor\": \"white\", \"linecolor\": \"white\", \"minorgridcolor\": \"white\", \"startlinecolor\": \"#2a3f5f\"}, \"type\": \"carpet\"}], \"choropleth\": [{\"colorbar\": {\"outlinewidth\": 0, \"ticks\": \"\"}, \"type\": \"choropleth\"}], \"contour\": [{\"colorbar\": {\"outlinewidth\": 0, \"ticks\": \"\"}, \"colorscale\": [[0.0, \"#0d0887\"], [0.1111111111111111, \"#46039f\"], [0.2222222222222222, \"#7201a8\"], [0.3333333333333333, \"#9c179e\"], [0.4444444444444444, \"#bd3786\"], [0.5555555555555556, \"#d8576b\"], [0.6666666666666666, \"#ed7953\"], [0.7777777777777778, \"#fb9f3a\"], [0.8888888888888888, \"#fdca26\"], [1.0, \"#f0f921\"]], \"type\": \"contour\"}], \"contourcarpet\": [{\"colorbar\": {\"outlinewidth\": 0, \"ticks\": \"\"}, \"type\": \"contourcarpet\"}], \"heatmap\": [{\"colorbar\": {\"outlinewidth\": 0, \"ticks\": \"\"}, \"colorscale\": [[0.0, \"#0d0887\"], [0.1111111111111111, \"#46039f\"], [0.2222222222222222, \"#7201a8\"], [0.3333333333333333, \"#9c179e\"], [0.4444444444444444, \"#bd3786\"], [0.5555555555555556, \"#d8576b\"], [0.6666666666666666, \"#ed7953\"], [0.7777777777777778, \"#fb9f3a\"], [0.8888888888888888, \"#fdca26\"], [1.0, \"#f0f921\"]], \"type\": \"heatmap\"}], \"heatmapgl\": [{\"colorbar\": {\"outlinewidth\": 0, \"ticks\": \"\"}, \"colorscale\": [[0.0, \"#0d0887\"], [0.1111111111111111, \"#46039f\"], [0.2222222222222222, \"#7201a8\"], [0.3333333333333333, \"#9c179e\"], [0.4444444444444444, \"#bd3786\"], [0.5555555555555556, \"#d8576b\"], [0.6666666666666666, \"#ed7953\"], [0.7777777777777778, \"#fb9f3a\"], [0.8888888888888888, \"#fdca26\"], [1.0, \"#f0f921\"]], \"type\": \"heatmapgl\"}], \"histogram\": [{\"marker\": {\"colorbar\": {\"outlinewidth\": 0, \"ticks\": \"\"}}, \"type\": \"histogram\"}], \"histogram2d\": [{\"colorbar\": {\"outlinewidth\": 0, \"ticks\": \"\"}, \"colorscale\": [[0.0, \"#0d0887\"], [0.1111111111111111, \"#46039f\"], [0.2222222222222222, \"#7201a8\"], [0.3333333333333333, \"#9c179e\"], [0.4444444444444444, \"#bd3786\"], [0.5555555555555556, \"#d8576b\"], [0.6666666666666666, \"#ed7953\"], [0.7777777777777778, \"#fb9f3a\"], [0.8888888888888888, \"#fdca26\"], [1.0, \"#f0f921\"]], \"type\": \"histogram2d\"}], \"histogram2dcontour\": [{\"colorbar\": {\"outlinewidth\": 0, \"ticks\": \"\"}, \"colorscale\": [[0.0, \"#0d0887\"], [0.1111111111111111, \"#46039f\"], [0.2222222222222222, \"#7201a8\"], [0.3333333333333333, \"#9c179e\"], [0.4444444444444444, \"#bd3786\"], [0.5555555555555556, \"#d8576b\"], [0.6666666666666666, \"#ed7953\"], [0.7777777777777778, \"#fb9f3a\"], [0.8888888888888888, \"#fdca26\"], [1.0, \"#f0f921\"]], \"type\": \"histogram2dcontour\"}], \"mesh3d\": [{\"colorbar\": {\"outlinewidth\": 0, \"ticks\": \"\"}, \"type\": \"mesh3d\"}], \"parcoords\": [{\"line\": {\"colorbar\": {\"outlinewidth\": 0, \"ticks\": \"\"}}, \"type\": \"parcoords\"}], \"pie\": [{\"automargin\": true, \"type\": \"pie\"}], \"scatter\": [{\"marker\": {\"colorbar\": {\"outlinewidth\": 0, \"ticks\": \"\"}}, \"type\": \"scatter\"}], \"scatter3d\": [{\"line\": {\"colorbar\": {\"outlinewidth\": 0, \"ticks\": \"\"}}, \"marker\": {\"colorbar\": {\"outlinewidth\": 0, \"ticks\": \"\"}}, \"type\": \"scatter3d\"}], \"scattercarpet\": [{\"marker\": {\"colorbar\": {\"outlinewidth\": 0, \"ticks\": \"\"}}, \"type\": \"scattercarpet\"}], \"scattergeo\": [{\"marker\": {\"colorbar\": {\"outlinewidth\": 0, \"ticks\": \"\"}}, \"type\": \"scattergeo\"}], \"scattergl\": [{\"marker\": {\"colorbar\": {\"outlinewidth\": 0, \"ticks\": \"\"}}, \"type\": \"scattergl\"}], \"scattermapbox\": [{\"marker\": {\"colorbar\": {\"outlinewidth\": 0, \"ticks\": \"\"}}, \"type\": \"scattermapbox\"}], \"scatterpolar\": [{\"marker\": {\"colorbar\": {\"outlinewidth\": 0, \"ticks\": \"\"}}, \"type\": \"scatterpolar\"}], \"scatterpolargl\": [{\"marker\": {\"colorbar\": {\"outlinewidth\": 0, \"ticks\": \"\"}}, \"type\": \"scatterpolargl\"}], \"scatterternary\": [{\"marker\": {\"colorbar\": {\"outlinewidth\": 0, \"ticks\": \"\"}}, \"type\": \"scatterternary\"}], \"surface\": [{\"colorbar\": {\"outlinewidth\": 0, \"ticks\": \"\"}, \"colorscale\": [[0.0, \"#0d0887\"], [0.1111111111111111, \"#46039f\"], [0.2222222222222222, \"#7201a8\"], [0.3333333333333333, \"#9c179e\"], [0.4444444444444444, \"#bd3786\"], [0.5555555555555556, \"#d8576b\"], [0.6666666666666666, \"#ed7953\"], [0.7777777777777778, \"#fb9f3a\"], [0.8888888888888888, \"#fdca26\"], [1.0, \"#f0f921\"]], \"type\": \"surface\"}], \"table\": [{\"cells\": {\"fill\": {\"color\": \"#EBF0F8\"}, \"line\": {\"color\": \"white\"}}, \"header\": {\"fill\": {\"color\": \"#C8D4E3\"}, \"line\": {\"color\": \"white\"}}, \"type\": \"table\"}]}, \"layout\": {\"annotationdefaults\": {\"arrowcolor\": \"#2a3f5f\", \"arrowhead\": 0, \"arrowwidth\": 1}, \"coloraxis\": {\"colorbar\": {\"outlinewidth\": 0, \"ticks\": \"\"}}, \"colorscale\": {\"diverging\": [[0, \"#8e0152\"], [0.1, \"#c51b7d\"], [0.2, \"#de77ae\"], [0.3, \"#f1b6da\"], [0.4, \"#fde0ef\"], [0.5, \"#f7f7f7\"], [0.6, \"#e6f5d0\"], [0.7, \"#b8e186\"], [0.8, \"#7fbc41\"], [0.9, \"#4d9221\"], [1, \"#276419\"]], \"sequential\": [[0.0, \"#0d0887\"], [0.1111111111111111, \"#46039f\"], [0.2222222222222222, \"#7201a8\"], [0.3333333333333333, \"#9c179e\"], [0.4444444444444444, \"#bd3786\"], [0.5555555555555556, \"#d8576b\"], [0.6666666666666666, \"#ed7953\"], [0.7777777777777778, \"#fb9f3a\"], [0.8888888888888888, \"#fdca26\"], [1.0, \"#f0f921\"]], \"sequentialminus\": [[0.0, \"#0d0887\"], [0.1111111111111111, \"#46039f\"], [0.2222222222222222, \"#7201a8\"], [0.3333333333333333, \"#9c179e\"], [0.4444444444444444, \"#bd3786\"], [0.5555555555555556, \"#d8576b\"], [0.6666666666666666, \"#ed7953\"], [0.7777777777777778, \"#fb9f3a\"], [0.8888888888888888, \"#fdca26\"], [1.0, \"#f0f921\"]]}, \"colorway\": [\"#636efa\", \"#EF553B\", \"#00cc96\", \"#ab63fa\", \"#FFA15A\", \"#19d3f3\", \"#FF6692\", \"#B6E880\", \"#FF97FF\", \"#FECB52\"], \"font\": {\"color\": \"#2a3f5f\"}, \"geo\": {\"bgcolor\": \"white\", \"lakecolor\": \"white\", \"landcolor\": \"#E5ECF6\", \"showlakes\": true, \"showland\": true, \"subunitcolor\": \"white\"}, \"hoverlabel\": {\"align\": \"left\"}, \"hovermode\": \"closest\", \"mapbox\": {\"style\": \"light\"}, \"paper_bgcolor\": \"white\", \"plot_bgcolor\": \"#E5ECF6\", \"polar\": {\"angularaxis\": {\"gridcolor\": \"white\", \"linecolor\": \"white\", \"ticks\": \"\"}, \"bgcolor\": \"#E5ECF6\", \"radialaxis\": {\"gridcolor\": \"white\", \"linecolor\": \"white\", \"ticks\": \"\"}}, \"scene\": {\"xaxis\": {\"backgroundcolor\": \"#E5ECF6\", \"gridcolor\": \"white\", \"gridwidth\": 2, \"linecolor\": \"white\", \"showbackground\": true, \"ticks\": \"\", \"zerolinecolor\": \"white\"}, \"yaxis\": {\"backgroundcolor\": \"#E5ECF6\", \"gridcolor\": \"white\", \"gridwidth\": 2, \"linecolor\": \"white\", \"showbackground\": true, \"ticks\": \"\", \"zerolinecolor\": \"white\"}, \"zaxis\": {\"backgroundcolor\": \"#E5ECF6\", \"gridcolor\": \"white\", \"gridwidth\": 2, \"linecolor\": \"white\", \"showbackground\": true, \"ticks\": \"\", \"zerolinecolor\": \"white\"}}, \"shapedefaults\": {\"line\": {\"color\": \"#2a3f5f\"}}, \"ternary\": {\"aaxis\": {\"gridcolor\": \"white\", \"linecolor\": \"white\", \"ticks\": \"\"}, \"baxis\": {\"gridcolor\": \"white\", \"linecolor\": \"white\", \"ticks\": \"\"}, \"bgcolor\": \"#E5ECF6\", \"caxis\": {\"gridcolor\": \"white\", \"linecolor\": \"white\", \"ticks\": \"\"}}, \"title\": {\"x\": 0.05}, \"xaxis\": {\"automargin\": true, \"gridcolor\": \"white\", \"linecolor\": \"white\", \"ticks\": \"\", \"title\": {\"standoff\": 15}, \"zerolinecolor\": \"white\", \"zerolinewidth\": 2}, \"yaxis\": {\"automargin\": true, \"gridcolor\": \"white\", \"linecolor\": \"white\", \"ticks\": \"\", \"title\": {\"standoff\": 15}, \"zerolinecolor\": \"white\", \"zerolinewidth\": 2}}}, \"xaxis\": {\"anchor\": \"y\", \"domain\": [0.0, 1.0], \"title\": {\"text\": \"Total\"}}, \"yaxis\": {\"anchor\": \"x\", \"domain\": [0.0, 1.0], \"title\": {\"text\": \"count_collisions\"}}},\n",
       "                        {\"responsive\": true}\n",
       "                    ).then(function(){\n",
       "                            \n",
       "var gd = document.getElementById('db604796-738f-4029-af8b-ed314b8cd81b');\n",
       "var x = new MutationObserver(function (mutations, observer) {{\n",
       "        var display = window.getComputedStyle(gd).display;\n",
       "        if (!display || display === 'none') {{\n",
       "            console.log([gd, 'removed!']);\n",
       "            Plotly.purge(gd);\n",
       "            observer.disconnect();\n",
       "        }}\n",
       "}});\n",
       "\n",
       "// Listen for the removal of the full notebook cells\n",
       "var notebookContainer = gd.closest('#notebook-container');\n",
       "if (notebookContainer) {{\n",
       "    x.observe(notebookContainer, {childList: true});\n",
       "}}\n",
       "\n",
       "// Listen for the clearing of the current output cell\n",
       "var outputEl = gd.closest('.output');\n",
       "if (outputEl) {{\n",
       "    x.observe(outputEl, {childList: true});\n",
       "}}\n",
       "\n",
       "                        })\n",
       "                };\n",
       "                });\n",
       "            </script>\n",
       "        </div>"
      ]
     },
     "metadata": {},
     "output_type": "display_data"
    }
   ],
   "source": [
    "fig = px.scatter(scattercount_trafcollisions, x=\"Total\", y=\"count_collisions\", trendline=\"ols\")\n",
    "fig.show()"
   ]
  },
  {
   "cell_type": "code",
   "execution_count": null,
   "metadata": {},
   "outputs": [],
   "source": []
  }
 ],
 "metadata": {
  "kernelspec": {
   "display_name": "Python 3",
   "language": "python",
   "name": "python3"
  },
  "language_info": {
   "codemirror_mode": {
    "name": "ipython",
    "version": 3
   },
   "file_extension": ".py",
   "mimetype": "text/x-python",
   "name": "python",
   "nbconvert_exporter": "python",
   "pygments_lexer": "ipython3",
   "version": "3.6.5"
  }
 },
 "nbformat": 4,
 "nbformat_minor": 2
}
